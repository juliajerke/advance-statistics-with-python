{
 "cells": [
  {
   "cell_type": "markdown",
   "id": "51c3c900",
   "metadata": {},
   "source": [
    "Data Analysis – Advanced Statistics with Python  \n",
    "Dr. Julia Jerke | HS 2021\n",
    "\n",
    "\n",
    "# Exercise sheet 6 – December 3, 2021\n",
    "\n",
    "\n",
    "**Please submit your solution electronically until December 10, 2021, 23:59  \n",
    "Send your script-file to jerke@soziologie.uzh.ch**"
   ]
  },
  {
   "cell_type": "markdown",
   "id": "6d94d92e",
   "metadata": {},
   "source": [
    "\n",
    "**Notes:**  \n",
    "- **Please sufficiently comment your script and structure it according to the different tasks.**\n",
    "- **Whenever a task asks for an explicit answer, please write down your answer directly in the script within a comment.**\n",
    "- **Make sure that you fully document your solution in your script. If you give an answer, but there is no code to clearly reconstruct how the answer was determined, the answer cannot be counted.**\n",
    "- **The tasks vary in difficulty. For some of them you may have to combine commands in a new way or have to look in the documentation of the respective libraries.**\n",
    "- **Most exercise sheets will contain bonus questions, providing the possibility to obtain extra points.**\n",
    "- **The solution of this sheet will be published on OLAT after the submission deadline expires.**\n",
    "\n",
    "---\n",
    "\n",
    "**_Note on jupyter notebook: The empty cells are just placeholders - you may create as many cells as you need!_**\n",
    "\n",
    "---"
   ]
  },
  {
   "cell_type": "markdown",
   "id": "ce597387",
   "metadata": {},
   "source": [
    "### 1. Data inspection and preparation\n",
    "\n",
    "For this exercise we will be again working with the happiness data set. Load it into python.\n",
    "We want to conduct a PCA to reduce the number of variables in order to facilitate subsequent clusteriing and visualization.\n",
    "\n",
    "1. Plot the pairwise distribution of all variables that describe our countries in one graph. Use the seaborn library for that. Do you think that a dimnesionality reduction without a high loss of information is possible? \n",
    "2. Prepare your data for the principal component analysis. What steps does this entail?"
   ]
  },
  {
   "cell_type": "markdown",
   "id": "7d0986c5",
   "metadata": {},
   "source": [
    "### 2. Principal component analysis\n",
    "\n",
    "1. Conduct a principal component analysis.\n",
    "    1. Print the eigen values of the components.\n",
    "    2. What is the explained variance of each component?\n",
    "    3. Plot the explained variance as well as the cumulative explained variance.\n",
    "2. How many components would you choose? Consider the following criteria:\n",
    "    1. Eigen value criteria.\n",
    "    2. Inspection of the scree plot\n",
    "    3. The explained variance should be at least 80%\n",
    "    4. [Bonus] What proportion of variance must a single component explain to meet the eigen value criteria in the case of seven initial variables?\n",
    "3. We will continue with a two-component solution. Therefore, apend the first two components to the happy data frame."
   ]
  },
  {
   "cell_type": "markdown",
   "id": "ab334b9f",
   "metadata": {},
   "source": [
    "### 3. Inspecting the principal component solution\n",
    "\n",
    "1. We want to better understand what the components mean. \n",
    "    1. Therefore, calcuate the correlation of the initial seven variables with the two components.\n",
    "    2. Considering the correlations, how would you describe the meaning of the two components?\n",
    "2. We further want to visualize the two components.\n",
    "    1. Plot them in a scatter plot.\n",
    "    2. Add the country names to the data points. Make sure to make the figure size large enough so that you can read the names well.\n",
    "    3. Inspect the scatter plot. Can you identify some patterns?"
   ]
  },
  {
   "cell_type": "markdown",
   "id": "efb7b35d",
   "metadata": {},
   "source": [
    "### 4. Clustering using the results from the principal components\n",
    "\n",
    "1. Conduct a K-means cluster analysis. Thereby, set the number of clusters to three. Append the cluster assignment as a new variable to the data set from the previous task.\n",
    "2. Calculate the mean values of the seven initial variables for the three different clusters.\n",
    "3. Let's use the results from the PCA to plot the cluster solution. \n",
    "    1. Draw a scatter plot with the two components from the PCA and color the points according to the clusters.\n",
    "    2. What do you note?\n",
    "4. Now, repeat the cluster analysis from before, but this time use the two principal components. Again, draw a scatter plot. Color the data points according to the new cluster solution. Compare the result with the scatter plot from the task before."
   ]
  }
 ],
 "metadata": {
  "kernelspec": {
   "display_name": "Python 3 (ipykernel)",
   "language": "python",
   "name": "python3"
  },
  "language_info": {
   "codemirror_mode": {
    "name": "ipython",
    "version": 3
   },
   "file_extension": ".py",
   "mimetype": "text/x-python",
   "name": "python",
   "nbconvert_exporter": "python",
   "pygments_lexer": "ipython3",
   "version": "3.8.8"
  }
 },
 "nbformat": 4,
 "nbformat_minor": 5
}
