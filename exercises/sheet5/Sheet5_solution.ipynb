{
 "cells": [
  {
   "cell_type": "markdown",
   "id": "51c3c900",
   "metadata": {},
   "source": [
    "Data Analysis – Advanced Statistics with Python  \n",
    "Dr. Julia Jerke | HS 2021\n",
    "\n",
    "\n",
    "# Exercise sheet 5 – November 26, 2021\n",
    "\n",
    "\n",
    "**Please submit your solution electronically until November 26, 2021, 23:59  \n",
    "Send your script-file to jerke@soziologie.uzh.ch**"
   ]
  },
  {
   "cell_type": "markdown",
   "id": "6d94d92e",
   "metadata": {},
   "source": [
    "\n",
    "**Notes:**  \n",
    "- **Please sufficiently comment your script and structure it according to the different tasks.**\n",
    "- **Whenever a task asks for an explicit answer, please write down your answer directly in the script within a comment.**\n",
    "- **Make sure that you fully document your solution in your script. If you give an answer, but there is no code to clearly reconstruct how the answer was determined, the answer cannot be counted.**\n",
    "- **The tasks vary in difficulty. For some of them you may have to combine commands in a new way or have to look in the documentation of the respective libraries.**\n",
    "- **Most exercise sheets will contain bonus questions, providing the possibility to obtain extra points.**\n",
    "- **The solution of this sheet will be published on OLAT after the submission deadline expires.**\n",
    "\n",
    "---\n",
    "\n",
    "**_Note on jupyter notebook: The empty cells are just placeholders - you may create as many cells as you need!_**\n",
    "\n",
    "---"
   ]
  },
  {
   "cell_type": "markdown",
   "id": "ce597387",
   "metadata": {},
   "source": [
    "### 1. K-means clustering\n",
    "\n",
    "For this exercise we will be again working with the happiness data set. Load it into python.\n",
    "We want to identify clusters within the countries by looking at the happiness score and the generosity indicator\n",
    "\n",
    "1. Standardize the two variables to ensure that they have equal influence on the clustering procedure.\n",
    "2. Run the K-means clustering. The algorithm requires you to determine the number of clusters beforehand.\n",
    "    1. Try out different numbers $k$ of clusters.\n",
    "    2. Compare the different solutions with respect to the SSE. For which cluster solution do you decide?\n",
    "3. Plot your cluster solution and make sure that the countries are colored according to the clusters they belong to."
   ]
  },
  {
   "cell_type": "code",
   "execution_count": 1,
   "id": "82e3943d",
   "metadata": {},
   "outputs": [
    {
     "data": {
      "text/html": [
       "<div>\n",
       "<style scoped>\n",
       "    .dataframe tbody tr th:only-of-type {\n",
       "        vertical-align: middle;\n",
       "    }\n",
       "\n",
       "    .dataframe tbody tr th {\n",
       "        vertical-align: top;\n",
       "    }\n",
       "\n",
       "    .dataframe thead th {\n",
       "        text-align: right;\n",
       "    }\n",
       "</style>\n",
       "<table border=\"1\" class=\"dataframe\">\n",
       "  <thead>\n",
       "    <tr style=\"text-align: right;\">\n",
       "      <th></th>\n",
       "      <th>Unnamed: 0</th>\n",
       "      <th>rank</th>\n",
       "      <th>country</th>\n",
       "      <th>score</th>\n",
       "      <th>gdp</th>\n",
       "      <th>support</th>\n",
       "      <th>life</th>\n",
       "      <th>choices</th>\n",
       "      <th>generosity</th>\n",
       "      <th>corruption</th>\n",
       "      <th>continent</th>\n",
       "      <th>develop</th>\n",
       "    </tr>\n",
       "  </thead>\n",
       "  <tbody>\n",
       "    <tr>\n",
       "      <th>0</th>\n",
       "      <td>0</td>\n",
       "      <td>1</td>\n",
       "      <td>Finland</td>\n",
       "      <td>7.769</td>\n",
       "      <td>1.340</td>\n",
       "      <td>1.587</td>\n",
       "      <td>0.986</td>\n",
       "      <td>0.596</td>\n",
       "      <td>0.153</td>\n",
       "      <td>0.393</td>\n",
       "      <td>Europe</td>\n",
       "      <td>0.0</td>\n",
       "    </tr>\n",
       "    <tr>\n",
       "      <th>1</th>\n",
       "      <td>1</td>\n",
       "      <td>2</td>\n",
       "      <td>Denmark</td>\n",
       "      <td>7.600</td>\n",
       "      <td>1.383</td>\n",
       "      <td>1.573</td>\n",
       "      <td>0.996</td>\n",
       "      <td>0.592</td>\n",
       "      <td>0.252</td>\n",
       "      <td>0.410</td>\n",
       "      <td>Europe</td>\n",
       "      <td>0.0</td>\n",
       "    </tr>\n",
       "    <tr>\n",
       "      <th>2</th>\n",
       "      <td>2</td>\n",
       "      <td>3</td>\n",
       "      <td>Norway</td>\n",
       "      <td>7.554</td>\n",
       "      <td>1.488</td>\n",
       "      <td>1.582</td>\n",
       "      <td>1.028</td>\n",
       "      <td>0.603</td>\n",
       "      <td>0.271</td>\n",
       "      <td>0.341</td>\n",
       "      <td>Europe</td>\n",
       "      <td>0.0</td>\n",
       "    </tr>\n",
       "    <tr>\n",
       "      <th>3</th>\n",
       "      <td>3</td>\n",
       "      <td>4</td>\n",
       "      <td>Iceland</td>\n",
       "      <td>7.494</td>\n",
       "      <td>1.380</td>\n",
       "      <td>1.624</td>\n",
       "      <td>1.026</td>\n",
       "      <td>0.591</td>\n",
       "      <td>0.354</td>\n",
       "      <td>0.118</td>\n",
       "      <td>Europe</td>\n",
       "      <td>0.0</td>\n",
       "    </tr>\n",
       "    <tr>\n",
       "      <th>4</th>\n",
       "      <td>4</td>\n",
       "      <td>5</td>\n",
       "      <td>Netherlands</td>\n",
       "      <td>7.488</td>\n",
       "      <td>1.396</td>\n",
       "      <td>1.522</td>\n",
       "      <td>0.999</td>\n",
       "      <td>0.557</td>\n",
       "      <td>0.322</td>\n",
       "      <td>0.298</td>\n",
       "      <td>Europe</td>\n",
       "      <td>0.0</td>\n",
       "    </tr>\n",
       "  </tbody>\n",
       "</table>\n",
       "</div>"
      ],
      "text/plain": [
       "   Unnamed: 0  rank      country  score    gdp  support   life  choices  \\\n",
       "0           0     1      Finland  7.769  1.340    1.587  0.986    0.596   \n",
       "1           1     2      Denmark  7.600  1.383    1.573  0.996    0.592   \n",
       "2           2     3       Norway  7.554  1.488    1.582  1.028    0.603   \n",
       "3           3     4      Iceland  7.494  1.380    1.624  1.026    0.591   \n",
       "4           4     5  Netherlands  7.488  1.396    1.522  0.999    0.557   \n",
       "\n",
       "   generosity  corruption continent  develop  \n",
       "0       0.153       0.393    Europe      0.0  \n",
       "1       0.252       0.410    Europe      0.0  \n",
       "2       0.271       0.341    Europe      0.0  \n",
       "3       0.354       0.118    Europe      0.0  \n",
       "4       0.322       0.298    Europe      0.0  "
      ]
     },
     "execution_count": 1,
     "metadata": {},
     "output_type": "execute_result"
    }
   ],
   "source": [
    "# General libraries\n",
    "import pandas as pd\n",
    "import numpy as np\n",
    "import matplotlib.pyplot as plt\n",
    "\n",
    "# Libraries that are needed for the cluster analysis\n",
    "from sklearn.cluster import KMeans\n",
    "from sklearn.cluster import AgglomerativeClustering\n",
    "from sklearn.preprocessing import StandardScaler\n",
    "\n",
    "\n",
    "# Loading the data set\n",
    "happy = pd.read_csv(\"world_happiness_2019.csv\")\n",
    "happy.head()"
   ]
  },
  {
   "cell_type": "markdown",
   "id": "947e2db6",
   "metadata": {},
   "source": [
    "#### 1 - Selecting and standardizing the variables"
   ]
  },
  {
   "cell_type": "code",
   "execution_count": 3,
   "id": "8ce986c4",
   "metadata": {},
   "outputs": [],
   "source": [
    "# Selecting the variables and the subset\n",
    "var1 = \"score\"\n",
    "var2 = \"generosity\"\n",
    "\n",
    "happy_cluster = happy[[var1,var2]]"
   ]
  },
  {
   "cell_type": "code",
   "execution_count": 4,
   "id": "6aa6a1d1",
   "metadata": {},
   "outputs": [
    {
     "name": "stdout",
     "output_type": "stream",
     "text": [
      "[[ 2.12871112 -0.33540398]\n",
      " [ 1.97639663  0.70726491]\n",
      " [ 1.93493825  0.90737308]\n",
      " [ 1.8808621   1.78152982]\n",
      " [ 1.87545448  1.44450554]]\n"
     ]
    }
   ],
   "source": [
    "# Standardization of the variables: standard normal transformation\n",
    "scaled_happy_cluster = StandardScaler().fit_transform(happy_cluster)\n",
    "\n",
    "print(scaled_happy_cluster[:5])"
   ]
  },
  {
   "cell_type": "markdown",
   "id": "4fb1c966",
   "metadata": {},
   "source": [
    "#### 2 - Running the cluster analysis"
   ]
  },
  {
   "cell_type": "markdown",
   "id": "b80ad265",
   "metadata": {},
   "source": [
    "A. Trying different numbers of clusters"
   ]
  },
  {
   "cell_type": "code",
   "execution_count": 4,
   "id": "0bed1445",
   "metadata": {},
   "outputs": [
    {
     "name": "stderr",
     "output_type": "stream",
     "text": [
      "C:\\Users\\jjerke\\Anaconda3\\lib\\site-packages\\sklearn\\cluster\\_kmeans.py:881: UserWarning: KMeans is known to have a memory leak on Windows with MKL, when there are less chunks than available threads. You can avoid it by setting the environment variable OMP_NUM_THREADS=1.\n",
      "  warnings.warn(\n"
     ]
    }
   ],
   "source": [
    "# First, we define an empty list that will later store the SSE from each iteration over the cluster numbers\n",
    "sse = []\n",
    "\n",
    "# Second, we can loop over the number of clusters k\n",
    "for k in range(1, 11):  # we estimate cluster solutions for 1 to 10 clusters\n",
    "    kmeans = KMeans(n_clusters=k, init=\"random\", n_init=20) # instantiating the cluster model but with varying k\n",
    "    kmeans.fit(scaled_happy_cluster) # estimating the cluster model\n",
    "    sse.append(kmeans.inertia_) # adding the inertia value from the current round (the current k) to the list that is collecting the inertia value for all rounds"
   ]
  },
  {
   "cell_type": "markdown",
   "id": "24e1797f",
   "metadata": {},
   "source": [
    "B. Comparing the cluster solutions"
   ]
  },
  {
   "cell_type": "code",
   "execution_count": 5,
   "id": "721c7d29",
   "metadata": {},
   "outputs": [
    {
     "data": {
      "text/plain": [
       "Text(0, 0.5, 'SSE')"
      ]
     },
     "execution_count": 5,
     "metadata": {},
     "output_type": "execute_result"
    },
    {
     "data": {
      "image/png": "[encoded data removed]",
      "text/plain": [
       "<Figure size 432x288 with 1 Axes>"
      ]
     },
     "metadata": {
      "needs_background": "light"
     },
     "output_type": "display_data"
    }
   ],
   "source": [
    "# Plotting the SSE for the different cluster solutions\n",
    "fig, ax = plt.subplots()\n",
    "ax.plot(range(1, 11), sse)\n",
    "ax.set_xticks(range(1, 10))\n",
    "ax.set_xlabel(\"Number of Clusters\")\n",
    "ax.set_ylabel(\"SSE\")"
   ]
  },
  {
   "cell_type": "code",
   "execution_count": 6,
   "id": "f760cab0",
   "metadata": {},
   "outputs": [
    {
     "data": {
      "text/plain": [
       "3"
      ]
     },
     "execution_count": 6,
     "metadata": {},
     "output_type": "execute_result"
    }
   ],
   "source": [
    "from kneed import KneeLocator\n",
    "knee = KneeLocator(range(1, 11), sse, curve=\"convex\", direction=\"decreasing\").elbow\n",
    "knee"
   ]
  },
  {
   "cell_type": "markdown",
   "id": "919f72ee",
   "metadata": {},
   "source": [
    "The elbow plot as well the KneeLocater suggest the three-cluster solution."
   ]
  },
  {
   "cell_type": "code",
   "execution_count": 7,
   "id": "dd7ccb8d",
   "metadata": {},
   "outputs": [
    {
     "data": {
      "text/plain": [
       "KMeans(init='random', n_clusters=3, n_init=20)"
      ]
     },
     "execution_count": 7,
     "metadata": {},
     "output_type": "execute_result"
    }
   ],
   "source": [
    "# Repeating the cluster anaysis with 3 clusters\n",
    "kmeans_s = KMeans(n_clusters=knee, init=\"random\", n_init=20)\n",
    "kmeans_s.fit(scaled_happy_cluster)"
   ]
  },
  {
   "cell_type": "code",
   "execution_count": 8,
   "id": "4e48b281",
   "metadata": {},
   "outputs": [],
   "source": [
    "# Adding the cluster results to the data set\n",
    "kmeans_scaled_label = kmeans_s.labels_\n",
    "happy[\"kmeans_cluster_scaled\"] = kmeans_scaled_label"
   ]
  },
  {
   "cell_type": "markdown",
   "id": "184fc704",
   "metadata": {},
   "source": [
    "#### 3 - Plotting the cluster result"
   ]
  },
  {
   "cell_type": "code",
   "execution_count": 9,
   "id": "8a91537d",
   "metadata": {
    "scrolled": true
   },
   "outputs": [
    {
     "data": {
      "text/plain": [
       "<matplotlib.collections.PathCollection at 0x22103167af0>"
      ]
     },
     "execution_count": 9,
     "metadata": {},
     "output_type": "execute_result"
    },
    {
     "data": {
      "image/png": "[encoded data removed]",
      "text/plain": [
       "<Figure size 432x288 with 1 Axes>"
      ]
     },
     "metadata": {
      "needs_background": "light"
     },
     "output_type": "display_data"
    }
   ],
   "source": [
    "plt.scatter(var1,var2,data=happy,c=\"kmeans_cluster_scaled\")"
   ]
  },
  {
   "cell_type": "markdown",
   "id": "efb7b35d",
   "metadata": {},
   "source": [
    "### 2. Agglomerative clustering\n",
    "\n",
    "There are various clustering methods and they all have strengths and weaknesses. Further, different algorithms will usually result in different cluster solutions.\n",
    "\n",
    "1. Repeat the cluster analysis from before, but this time with the agglomerative clustering algorithm. Use the same number of clusters that you have determined in the previous exercise. Make sure to use the standardized data.\n",
    "2. Plot your cluster solution and color the countries according to the clusters they belong to.\n",
    "3. Compare the plots from the K-means and the agglomerative clustering. Where do you see differences?"
   ]
  },
  {
   "cell_type": "markdown",
   "id": "857dd572",
   "metadata": {},
   "source": [
    "#### 1 - Agglomerative clustering with three clusters"
   ]
  },
  {
   "cell_type": "code",
   "execution_count": 10,
   "id": "37c122eb",
   "metadata": {},
   "outputs": [],
   "source": [
    "# Agglomerative clustering with standardized data and three clusters\n",
    "agglo = AgglomerativeClustering(n_clusters=knee)\n",
    "cluster = agglo.fit(scaled_happy_cluster)\n",
    "agglo_scaled_label = agglo.labels_\n",
    "happy[\"agglo_cluster_scaled\"] = agglo_scaled_label"
   ]
  },
  {
   "cell_type": "markdown",
   "id": "45d9a52d",
   "metadata": {},
   "source": [
    "#### 2 - Plotting the cluster solution"
   ]
  },
  {
   "cell_type": "code",
   "execution_count": 11,
   "id": "f972faeb",
   "metadata": {
    "scrolled": true
   },
   "outputs": [
    {
     "data": {
      "text/plain": [
       "<matplotlib.collections.PathCollection at 0x22103236640>"
      ]
     },
     "execution_count": 11,
     "metadata": {},
     "output_type": "execute_result"
    },
    {
     "data": {
      "image/png": "[encoded data removed]",
      "text/plain": [
       "<Figure size 432x288 with 1 Axes>"
      ]
     },
     "metadata": {
      "needs_background": "light"
     },
     "output_type": "display_data"
    }
   ],
   "source": [
    "plt.scatter(var1,var2,data=happy,c=\"agglo_cluster_scaled\")"
   ]
  },
  {
   "cell_type": "markdown",
   "id": "5f61ae57",
   "metadata": {},
   "source": [
    "#### 3 - Comparison\n",
    "\n",
    "Clearly, the results of the two cluster procedures are very similar. However, there are some minor differences. The clusters differ particularly at the edges. For instance, the lower cluster (green in the second plot) is larger for the agglomerative clustering than for the K-means clustering."
   ]
  },
  {
   "cell_type": "markdown",
   "id": "1c6fe524",
   "metadata": {},
   "source": [
    "### 3. Clustering without standardization\n",
    "\n",
    "Standardization is important to ensure that all variables have equl influence on the clustering.\n",
    "\n",
    "1. Repeat the K-means clustering analysis with the same number of clusters,but this time with the original non-standardized data.\n",
    "2. As before, plot the cluster solution and color the countries accordingly.\n",
    "3. Clearly, the plotted cluster solutions differ. How do you recognize the lack of standardization in the plot?"
   ]
  },
  {
   "cell_type": "markdown",
   "id": "7b51f76a",
   "metadata": {},
   "source": [
    "#### 1 - Clustering without standardization"
   ]
  },
  {
   "cell_type": "code",
   "execution_count": 20,
   "id": "32680df3",
   "metadata": {},
   "outputs": [
    {
     "data": {
      "text/html": [
       "<div>\n",
       "<style scoped>\n",
       "    .dataframe tbody tr th:only-of-type {\n",
       "        vertical-align: middle;\n",
       "    }\n",
       "\n",
       "    .dataframe tbody tr th {\n",
       "        vertical-align: top;\n",
       "    }\n",
       "\n",
       "    .dataframe thead th {\n",
       "        text-align: right;\n",
       "    }\n",
       "</style>\n",
       "<table border=\"1\" class=\"dataframe\">\n",
       "  <thead>\n",
       "    <tr style=\"text-align: right;\">\n",
       "      <th></th>\n",
       "      <th>score</th>\n",
       "      <th>generosity</th>\n",
       "    </tr>\n",
       "  </thead>\n",
       "  <tbody>\n",
       "    <tr>\n",
       "      <th>0</th>\n",
       "      <td>7.769</td>\n",
       "      <td>0.153</td>\n",
       "    </tr>\n",
       "    <tr>\n",
       "      <th>1</th>\n",
       "      <td>7.600</td>\n",
       "      <td>0.252</td>\n",
       "    </tr>\n",
       "    <tr>\n",
       "      <th>2</th>\n",
       "      <td>7.554</td>\n",
       "      <td>0.271</td>\n",
       "    </tr>\n",
       "    <tr>\n",
       "      <th>3</th>\n",
       "      <td>7.494</td>\n",
       "      <td>0.354</td>\n",
       "    </tr>\n",
       "    <tr>\n",
       "      <th>4</th>\n",
       "      <td>7.488</td>\n",
       "      <td>0.322</td>\n",
       "    </tr>\n",
       "  </tbody>\n",
       "</table>\n",
       "</div>"
      ],
      "text/plain": [
       "   score  generosity\n",
       "0  7.769       0.153\n",
       "1  7.600       0.252\n",
       "2  7.554       0.271\n",
       "3  7.494       0.354\n",
       "4  7.488       0.322"
      ]
     },
     "execution_count": 20,
     "metadata": {},
     "output_type": "execute_result"
    }
   ],
   "source": [
    "# K-means clustering with unstandardized data\n",
    "kmeans_nst = KMeans(n_clusters=3,init=\"random\",n_init=10,random_state=42)\n",
    "kmeans_nst.fit(happy_cluster)\n",
    "kmeans_label = kmeans_nst.labels_\n",
    "happy[\"kmeans_cluster_nst\"] = kmeans_label\n",
    "kmeans_nst.inertia_\n",
    "happy_cluster.head()"
   ]
  },
  {
   "cell_type": "markdown",
   "id": "17900684",
   "metadata": {},
   "source": [
    "#### 2 - Plotting the cluster solution"
   ]
  },
  {
   "cell_type": "code",
   "execution_count": 18,
   "id": "9d593594",
   "metadata": {
    "scrolled": true
   },
   "outputs": [
    {
     "data": {
      "text/plain": [
       "<matplotlib.collections.PathCollection at 0x22103370280>"
      ]
     },
     "execution_count": 18,
     "metadata": {},
     "output_type": "execute_result"
    },
    {
     "data": {
      "image/png": "[encoded data removed]",
      "text/plain": [
       "<Figure size 432x288 with 1 Axes>"
      ]
     },
     "metadata": {
      "needs_background": "light"
     },
     "output_type": "display_data"
    }
   ],
   "source": [
    "plt.scatter(var1,var2,data=happy,c=\"kmeans_cluster_nst\")"
   ]
  },
  {
   "cell_type": "code",
   "execution_count": 14,
   "id": "ca3394f4",
   "metadata": {},
   "outputs": [
    {
     "data": {
      "text/html": [
       "<div>\n",
       "<style scoped>\n",
       "    .dataframe tbody tr th:only-of-type {\n",
       "        vertical-align: middle;\n",
       "    }\n",
       "\n",
       "    .dataframe tbody tr th {\n",
       "        vertical-align: top;\n",
       "    }\n",
       "\n",
       "    .dataframe thead th {\n",
       "        text-align: right;\n",
       "    }\n",
       "</style>\n",
       "<table border=\"1\" class=\"dataframe\">\n",
       "  <thead>\n",
       "    <tr style=\"text-align: right;\">\n",
       "      <th></th>\n",
       "      <th>score</th>\n",
       "      <th>generosity</th>\n",
       "    </tr>\n",
       "  </thead>\n",
       "  <tbody>\n",
       "    <tr>\n",
       "      <th>count</th>\n",
       "      <td>156.000000</td>\n",
       "      <td>156.000000</td>\n",
       "    </tr>\n",
       "    <tr>\n",
       "      <th>mean</th>\n",
       "      <td>5.407096</td>\n",
       "      <td>0.184846</td>\n",
       "    </tr>\n",
       "    <tr>\n",
       "      <th>std</th>\n",
       "      <td>1.113120</td>\n",
       "      <td>0.095254</td>\n",
       "    </tr>\n",
       "    <tr>\n",
       "      <th>min</th>\n",
       "      <td>2.853000</td>\n",
       "      <td>0.000000</td>\n",
       "    </tr>\n",
       "    <tr>\n",
       "      <th>25%</th>\n",
       "      <td>4.544500</td>\n",
       "      <td>0.108750</td>\n",
       "    </tr>\n",
       "    <tr>\n",
       "      <th>50%</th>\n",
       "      <td>5.379500</td>\n",
       "      <td>0.177500</td>\n",
       "    </tr>\n",
       "    <tr>\n",
       "      <th>75%</th>\n",
       "      <td>6.184500</td>\n",
       "      <td>0.248250</td>\n",
       "    </tr>\n",
       "    <tr>\n",
       "      <th>max</th>\n",
       "      <td>7.769000</td>\n",
       "      <td>0.566000</td>\n",
       "    </tr>\n",
       "  </tbody>\n",
       "</table>\n",
       "</div>"
      ],
      "text/plain": [
       "            score  generosity\n",
       "count  156.000000  156.000000\n",
       "mean     5.407096    0.184846\n",
       "std      1.113120    0.095254\n",
       "min      2.853000    0.000000\n",
       "25%      4.544500    0.108750\n",
       "50%      5.379500    0.177500\n",
       "75%      6.184500    0.248250\n",
       "max      7.769000    0.566000"
      ]
     },
     "execution_count": 14,
     "metadata": {},
     "output_type": "execute_result"
    }
   ],
   "source": [
    "happy[[var1,var2]].describe()"
   ]
  },
  {
   "cell_type": "markdown",
   "id": "b031f849",
   "metadata": {},
   "source": [
    "#### 3 - The problem with non-standardized data"
   ]
  },
  {
   "cell_type": "markdown",
   "id": "97a1970b",
   "metadata": {},
   "source": [
    "The plot clearly shows that the clustering with non-standardized data resulted in a stratification of the countries by the happiness score. The happiness sccore has a much larger range than the generosity variable (2.85-7.77 versus 0-0.57). Therefore, it also has a much larger influence on the clustering procedure. The generosity variable didn't seem to influence the cluster formation at all."
   ]
  }
 ],
 "metadata": {
  "kernelspec": {
   "display_name": "Python 3 (ipykernel)",
   "language": "python",
   "name": "python3"
  },
  "language_info": {
   "codemirror_mode": {
    "name": "ipython",
    "version": 3
   },
   "file_extension": ".py",
   "mimetype": "text/x-python",
   "name": "python",
   "nbconvert_exporter": "python",
   "pygments_lexer": "ipython3",
   "version": "3.8.8"
  }
 },
 "nbformat": 4,
 "nbformat_minor": 5
}
