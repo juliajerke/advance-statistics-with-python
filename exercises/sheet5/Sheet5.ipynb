{
 "cells": [
  {
   "cell_type": "markdown",
   "id": "51c3c900",
   "metadata": {},
   "source": [
    "Data Analysis – Advanced Statistics with Python  \n",
    "Dr. Julia Jerke | HS 2021\n",
    "\n",
    "\n",
    "# Exercise sheet 5 – November 26, 2021\n",
    "\n",
    "\n",
    "**Please submit your solution electronically until December 3, 2021, 23:59  \n",
    "Send your script-file to jerke@soziologie.uzh.ch**"
   ]
  },
  {
   "cell_type": "markdown",
   "id": "6d94d92e",
   "metadata": {},
   "source": [
    "\n",
    "**Notes:**  \n",
    "- **Please sufficiently comment your script and structure it according to the different tasks.**\n",
    "- **Whenever a task asks for an explicit answer, please write down your answer directly in the script within a comment.**\n",
    "- **Make sure that you fully document your solution in your script. If you give an answer, but there is no code to clearly reconstruct how the answer was determined, the answer cannot be counted.**\n",
    "- **The tasks vary in difficulty. For some of them you may have to combine commands in a new way or have to look in the documentation of the respective libraries.**\n",
    "- **Most exercise sheets will contain bonus questions, providing the possibility to obtain extra points.**\n",
    "- **The solution of this sheet will be published on OLAT after the submission deadline expires.**\n",
    "\n",
    "---\n",
    "\n",
    "**_Note on jupyter notebook: The empty cells are just placeholders - you may create as many cells as you need!_**\n",
    "\n",
    "---"
   ]
  },
  {
   "cell_type": "markdown",
   "id": "ce597387",
   "metadata": {},
   "source": [
    "### 1. K-means clustering\n",
    "\n",
    "For this exercise we will be again working with the happiness data set. Load it into python.\n",
    "We want to identify clusters within the countries by looking at the happiness score and the generosity indicator\n",
    "\n",
    "1. First, standardize the two variables to ensure that they have equal influence on the clustering.\n",
    "2. Run the K-means clustering. The algorithm requires you to determine the number of clusters beforehand.\n",
    "    1. Try out different numbers $k$ of clusters.\n",
    "    2. Compare the different solutions with respect to the SSE. For which cluster solution do you decide?\n",
    "3. Plot your cluster solution and make sure that the countries are colored according to the clusters they belong to."
   ]
  },
  {
   "cell_type": "markdown",
   "id": "efb7b35d",
   "metadata": {},
   "source": [
    "### 2. Agglomerative clustering\n",
    "\n",
    "There are various clustering methods and they all have strengths and weaknesses. Further, different algorithms will usually result in different cluster solutions.\n",
    "\n",
    "1. Repeat the cluster analysis from before, but this time with the agglomerative clustering algorithm. Use the same number of clusters that you have determined in the previous exercise. Make sure to use the standardized data.\n",
    "2. Plot your cluster solution and color the countries according to the cluster they belong to.\n",
    "3. Compare the plots from the K-means and the agglomerative clustering. Where do you see differences?"
   ]
  },
  {
   "cell_type": "markdown",
   "id": "1c6fe524",
   "metadata": {},
   "source": [
    "### 3. Clustering without standardization\n",
    "\n",
    "Standardization is important to ensure that all variables have equal influence on the clustering.\n",
    "\n",
    "1. Repeat the K-means clustering analysis with the same number of clusters, but this time with the original non-standardized data.\n",
    "2. As before, plot the cluster solution and color the countries accordingly.\n",
    "3. Clearly, the plotted cluster solutions differ. How do you recognize the lack of standardization in the last plot?"
   ]
  }
 ],
 "metadata": {
  "kernelspec": {
   "display_name": "Python 3 (ipykernel)",
   "language": "python",
   "name": "python3"
  },
  "language_info": {
   "codemirror_mode": {
    "name": "ipython",
    "version": 3
   },
   "file_extension": ".py",
   "mimetype": "text/x-python",
   "name": "python",
   "nbconvert_exporter": "python",
   "pygments_lexer": "ipython3",
   "version": "3.8.8"
  }
 },
 "nbformat": 4,
 "nbformat_minor": 5
}
