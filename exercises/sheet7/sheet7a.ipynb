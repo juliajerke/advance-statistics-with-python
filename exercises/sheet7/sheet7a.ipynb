{
 "cells": [
  {
   "cell_type": "markdown",
   "id": "51c3c900",
   "metadata": {},
   "source": [
    "Data Analysis – Advanced Statistics with Python  \n",
    "Dr. Julia Jerke | HS 2021\n",
    "\n",
    "\n",
    "## Training sheet - Part A\n",
    "**December 21, 2021**\n",
    "\n",
    "# _Clustering, principal component analysis and machine learning_\n",
    "\n",
    "\n"
   ]
  },
  {
   "cell_type": "markdown",
   "id": "6d94d92e",
   "metadata": {},
   "source": [
    "\n",
    "**Notes:**  \n",
    "- **This sheet is meant as a summarizing exercise in which you can repeat and practive the topics that we covered in the course. You do NOT have to submit your solution!**\n",
    "- **However, if you wish to receive feedback, you can send me your script to: jerke@soziologie.uzh.ch** \n",
    "- **An example solution of this exercise will be published on OLAT at the end of January.**\n",
    "\n",
    "\n",
    "---\n",
    "---\n",
    "---"
   ]
  },
  {
   "cell_type": "markdown",
   "id": "9284111f",
   "metadata": {},
   "source": [
    "**For this exercise we will work with a data set that contains clinical measurements from breast cancer patients. The overarching goal is to train a machine learning model that can distinguish between malignant (M) and benign (B) cancer diseases. But first we will apply cluster analysis and principal component analysis to inspect and prepare our data set.**\n",
    "\n",
    "**Load the data set _breast_cancer_wisconsin.csv_ into python.**"
   ]
  },
  {
   "cell_type": "markdown",
   "id": "ce597387",
   "metadata": {},
   "source": [
    "# 1. Data inspection and preparation\n",
    "\n",
    "1. In a first step we will inspect the data set and the variables that it contains. \n",
    "    - How many patients does the data set contain?\n",
    "    - Are there missing values?\n",
    "    - Of what data type are the clinical measurements?\n",
    "2. There are 30 different clinical measurements. Inspect them by printing summary statistics and by plotting a heatmap to inspect their correlations. Describe what you can infer from the heatmap.\n"
   ]
  },
  {
   "cell_type": "markdown",
   "id": "dc570b44",
   "metadata": {},
   "source": [
    "# 2. Cluster analysis\n",
    "\n",
    "Unfortunately the data set does not contain the diagnosis of the cancer patients. We, therefore, do not know which cancer cases are benign and which are malignant.\n",
    "\n",
    "1. Run a cluster analysis with all thirty clinical measurements to identify clusters within the cancer cases that show similarity. \n",
    "    - Make sure to properly select your data for the analysis and to standardize the variables before the analysis.\n",
    "    - Write a loop to run the cluster analysis for different numbers of clusters (e.g. 1 to 10 clusters). Calculate the SSE each time and store it in a list.\n",
    "    - How many clusters does the elbow plot suggest?\n",
    "    - What is the SSE of your preferred solution?\n",
    "2. Independent from the previous task, we will continue with a two-cluster solution since we expect two different types of cancer diseases in the data (malient vs. benign). Append the cluster labels to your original data set."
   ]
  },
  {
   "cell_type": "markdown",
   "id": "52cd1074",
   "metadata": {},
   "source": [
    "# 3. Principal component analysis\n",
    "\n",
    "The ratio between the number of observations and the number of observations in our data set is not ideal (569:33). We will therefore try to reduce the number of variables with a principal component analysis.\n",
    "\n",
    "1. Conduct a principal component analysis. Make sure to use the standardized variables from before.\n",
    "    1. Print the eigen values of the components.\n",
    "    2. What is the explained variance of each component?\n",
    "    3. Plot the explained variance as well as the cumulative explained variance.\n",
    "2. How many components would you choose? Consider the following criteria for that:\n",
    "    1. Eigen value criteria. \n",
    "    2. Inspection of the scree plot and use the KneeLocator to identify the knee.\n",
    "    3. The explained variance should be at least 85%.\n",
    "    4. Since we are interested in reducing the number of variables, which of these criteria suggests the smallest number of components?\n",
    "3. Continue with your preferred component solution and append the components to your data set.\n",
    "4. Repeat the cluster analysis from before, but now with the components instead of the original measurements.\n",
    "5. Compare the results from the two different cluster analyses. Plot a crosstab to see whether the cluster solutions overlap. What do you note?"
   ]
  },
  {
   "cell_type": "markdown",
   "id": "fa57fa2d",
   "metadata": {},
   "source": [
    "# 4. Building a machine learning model using K-Nearest Neighbors (KNN)\n",
    "\n",
    "Meanwhile, the cancer cases from the data set have been manually reviewed by medical experts and assigned with a diagnosis. We can use that information to train a model that will be able to detect future malignant cancer cases. But first, we want to review our cluster solutions with the new information.\n",
    "\n",
    "1. The diagnoses are stored in the data set _breast_cancer_wisconsin_experts_. \n",
    "    1. Load the data into python. \n",
    "    2. How many cases are benign and how many are malignant?\n",
    "    3. Append the diagnosis data to your main data frame.\n",
    "2. To evaluate the performance of our cluster analysis, we want to compare the cluster assignments with the actual diagnosis. Therefore, calculate a crosstab and discuss the result.\n",
    "3. We now want to train a model that might predict the nature of future cancer cases. \n",
    "    1. Using the KNN algorithm, start with a 1-Neighbor model.\n",
    "    2. Plot the confusion matrix.\n",
    "    3. Print the classification report. Interpret _precision_, _recall_ and _accuracy_. What is your opinion on the size of these values?\n",
    "4. We should further check, whether it is better to use more than one neighbor. \n",
    "    1. Write a loop that trains models with a range of neighbors from 1 to 100.\n",
    "    2. For each model, calculate the accuracy score, the precision score and the recall score and append them each to a respective list. You can load the precision with `from sklearn.metrics import precision_score` and the recall with `from sklearn.metrics import recall_score`.\n",
    "    3. Create a graph that show how accuracy, precision and recall change with the number of neighbors.\n",
    "    4. To be able to make predictions, we have to decide for a model. For what number of neighbors do you decide? Therefore also consider the following question: in the case of detecting malignant cancer, which value would you rather maximize - precision or recall?\n",
    "5. Continue with your preferred neighbor solution and train you final model.\n",
    "6. We are now able to try and predict the type of cancer for new cases. Load the data set _breast_cancer_wisconsin_newdata.csv_ that contains 10 new cases with unknown diagnosis. Using the trained model, predict the type of cancer. Do not forget to standardize the new data accordingly."
   ]
  },
  {
   "cell_type": "markdown",
   "id": "96504102",
   "metadata": {},
   "source": [
    "### WELL DONE!!! \n",
    "### You finished the first part of the extensive training exercise. You are able to apply cluster analaysis and principal component analysis to large and complex data and to train a first simple machine learning model to make predictions."
   ]
  }
 ],
 "metadata": {
  "kernelspec": {
   "display_name": "Python 3 (ipykernel)",
   "language": "python",
   "name": "python3"
  },
  "language_info": {
   "codemirror_mode": {
    "name": "ipython",
    "version": 3
   },
   "file_extension": ".py",
   "mimetype": "text/x-python",
   "name": "python",
   "nbconvert_exporter": "python",
   "pygments_lexer": "ipython3",
   "version": "3.8.8"
  }
 },
 "nbformat": 4,
 "nbformat_minor": 5
}
